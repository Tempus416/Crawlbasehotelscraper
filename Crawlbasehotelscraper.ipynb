{
 "cells": [
  {
   "cell_type": "code",
   "execution_count": 1,
   "id": "4c81dc5b-5916-4363-bcd6-e9a93924de36",
   "metadata": {},
   "outputs": [
    {
     "name": "stdout",
     "output_type": "stream",
     "text": [
      "Base directory set to: D:\\Hotel Pricing Scraper\n"
     ]
    }
   ],
   "source": [
    "import os\n",
    "\n",
    "# Define base directory for the project\n",
    "BASE_DIR = r\"D:\\Hotel Pricing Scraper\"\n",
    "\n",
    "# Create the directory if it doesn't exist\n",
    "os.makedirs(BASE_DIR, exist_ok=True)\n",
    "\n",
    "print(f\"Base directory set to: {BASE_DIR}\")\n"
   ]
  },
  {
   "cell_type": "code",
   "execution_count": 4,
   "id": "edbad173-fa02-476c-a1dc-0241bbaf5460",
   "metadata": {},
   "outputs": [],
   "source": [
    "def save_raw_html(html, hotel_name, check_in_date, nights):\n",
    "    safe_name = hotel_name.lower().replace(\" \", \"_\").replace(\"-\", \"_\")\n",
    "    filename = f\"{safe_name}_raw_{check_in_date}_nights{nights}.html\"\n",
    "    file_path = os.path.join(BASE_DIR, filename)\n",
    "\n",
    "    with open(file_path, \"w\", encoding=\"utf-8\") as f:\n",
    "        f.write(html)\n",
    "\n",
    "    print(f\"Saved HTML to: {file_path}\")\n"
   ]
  },
  {
   "cell_type": "code",
   "execution_count": 3,
   "id": "9727803f-393c-4a4e-b8b1-2f90d27ded8d",
   "metadata": {},
   "outputs": [
    {
     "name": "stdout",
     "output_type": "stream",
     "text": [
      "Scraping: https://www.pendry.com/manhattan-west/\n",
      "✅ Successfully fetched page.\n",
      "Saved HTML to: D:\\Hotel Pricing Scraper\\pendry_manhattan_west_raw_2025-07-10_nights1.html\n"
     ]
    }
   ],
   "source": [
    "import requests\n",
    "from datetime import datetime, timedelta\n",
    "\n",
    "# === CONFIGURATION ===\n",
    "CRAWLBASE_JS_TOKEN = \"8i_FkaiD6T7sgW6bijcqSw\"\n",
    "BASE_API_URL = \"https://api.crawlbase.com/\"\n",
    "\n",
    "# === FUNCTION TO BUILD DYNAMIC URL (optional, if hotel allows date injection in URL) ===\n",
    "def build_dynamic_url(base_url, check_in_date, nights=1):\n",
    "    # Example: Append query string or use other formats as required by the hotel's website\n",
    "    # Many hotel websites don’t take query params; this is here for extensibility\n",
    "    return base_url\n",
    "\n",
    "# === MAIN SCRAPE FUNCTION ===\n",
    "def scrape_hotel_page(hotel_url, check_in_date=None, nights=1):\n",
    "    if not check_in_date:\n",
    "        check_in_date = datetime.today().strftime('%Y-%m-%d')\n",
    "\n",
    "    final_url = build_dynamic_url(hotel_url, check_in_date, nights)\n",
    "    \n",
    "    params = {\n",
    "        \"token\": CRAWLBASE_JS_TOKEN,\n",
    "        \"url\": final_url,\n",
    "        \"render\": \"true\"\n",
    "    }\n",
    "\n",
    "    print(f\"Scraping: {final_url}\")\n",
    "    response = requests.get(BASE_API_URL, params=params)\n",
    "\n",
    "    if response.status_code == 200:\n",
    "        print(\"✅ Successfully fetched page.\")\n",
    "        html = response.text\n",
    "        # Optional: save raw response to file\n",
    "        save_raw_html(html, hotel_name=\"Pendry Manhattan West\", check_in_date=check_in, nights=nights)\n",
    "        return html\n",
    "    else:\n",
    "        print(f\"❌ Error: {response.status_code}\")\n",
    "        print(response.text)\n",
    "        return None\n",
    "\n",
    "# === TEST CALL ===\n",
    "if __name__ == \"__main__\":\n",
    "    test_url = \"https://www.pendry.com/manhattan-west/\"\n",
    "    check_in = \"2025-07-10\"\n",
    "    nights = 1\n",
    "    scrape_hotel_page(test_url, check_in, nights)\n"
   ]
  },
  {
   "cell_type": "code",
   "execution_count": 6,
   "id": "9e20a425-35f6-4247-81e6-1d0b0d6de2b5",
   "metadata": {},
   "outputs": [
    {
     "name": "stdout",
     "output_type": "stream",
     "text": [
      "✅ Notebook copied to: D:\\Hotel Pricing Scraper\\Crawlbasehotelscraper.ipynb\n"
     ]
    }
   ],
   "source": [
    "import os\n",
    "import shutil\n",
    "\n",
    "# Ensure target directory exists\n",
    "os.makedirs(r\"D:\\Hotel Pricing Scraper\", exist_ok=True)\n",
    "\n",
    "# Define source and target paths\n",
    "source_path = os.path.abspath(\"Crawlbasehotelscraper.ipynb\")\n",
    "target_path = r\"D:\\Hotel Pricing Scraper\\Crawlbasehotelscraper.ipynb\"\n",
    "\n",
    "# Copy the file to the new location\n",
    "shutil.copy2(source_path, target_path)\n",
    "\n",
    "print(f\"✅ Notebook copied to: {target_path}\")\n"
   ]
  },
  {
   "cell_type": "code",
   "execution_count": null,
   "id": "cb3d65c7-405f-4511-b6ec-ca79619c274d",
   "metadata": {},
   "outputs": [],
   "source": []
  }
 ],
 "metadata": {
  "kernelspec": {
   "display_name": "Python [conda env:base] *",
   "language": "python",
   "name": "conda-base-py"
  },
  "language_info": {
   "codemirror_mode": {
    "name": "ipython",
    "version": 3
   },
   "file_extension": ".py",
   "mimetype": "text/x-python",
   "name": "python",
   "nbconvert_exporter": "python",
   "pygments_lexer": "ipython3",
   "version": "3.12.7"
  }
 },
 "nbformat": 4,
 "nbformat_minor": 5
}
